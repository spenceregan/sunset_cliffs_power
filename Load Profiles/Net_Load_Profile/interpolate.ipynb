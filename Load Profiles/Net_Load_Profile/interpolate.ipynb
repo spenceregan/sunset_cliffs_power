{
 "cells": [
  {
   "cell_type": "code",
   "execution_count": 12,
   "metadata": {},
   "outputs": [],
   "source": [
    "import pandas as pd\n",
    "ev_load = pd.read_csv('ev_load.csv', parse_dates=True,index_col='Time')\n",
    "ev_load = ev_load.resample('5min').interpolate()\n",
    "ev_load.to_csv('ev_5min.csv')"
   ]
  },
  {
   "cell_type": "code",
   "execution_count": 13,
   "metadata": {},
   "outputs": [],
   "source": [
    "import pandas as pd\n",
    "dg_gen = pd.read_csv('DG_Gen_30min.csv', parse_dates=True,index_col='Datetime')\n",
    "dg_gen = dg_gen.resample('5min').interpolate()\n",
    "dg_gen.to_csv('dg_5min.csv')"
   ]
  },
  {
   "cell_type": "code",
   "execution_count": 4,
   "metadata": {},
   "outputs": [],
   "source": [
    "import pandas as pd\n",
    "solar_gen = pd.read_csv('solar_30min.csv', parse_dates=True,index_col='Datetime')\n",
    "solar_gen = solar_gen.resample('5min').interpolate()\n",
    "solar_gen.to_csv('solar_5min.csv')"
   ]
  },
  {
   "cell_type": "code",
   "execution_count": 5,
   "metadata": {},
   "outputs": [],
   "source": [
    "import pandas as pd\n",
    "wind_gen = pd.read_csv('wind_60min.csv', parse_dates=True,index_col='Datetime')\n",
    "wind_gen = wind_gen.resample('5min').interpolate()\n",
    "wind_gen.to_csv('wind_5min.csv')"
   ]
  },
  {
   "cell_type": "code",
   "execution_count": 10,
   "metadata": {},
   "outputs": [],
   "source": [
    "import pandas as pd\n",
    "hydro_gen = pd.read_csv('hydro_profile.csv', parse_dates=True,index_col='Datetime')\n",
    "hydro_gen = hydro_gen.resample('5min').interpolate()\n",
    "hydro_gen.to_csv('hydro_5min.csv')"
   ]
  },
  {
   "cell_type": "code",
   "execution_count": 12,
   "metadata": {},
   "outputs": [],
   "source": [
    "import pandas as pd\n",
    "hydro_gen = pd.read_csv('hydro_5min_wide.csv', parse_dates=True,index_col='Datetime')\n",
    "hydro_gen = hydro_gen.resample('1D').interpolate()\n",
    "hydro_gen.to_csv('hydro_5min_year.csv')"
   ]
  }
 ],
 "metadata": {
  "kernelspec": {
   "display_name": "Python 3.9.12 ('base')",
   "language": "python",
   "name": "python3"
  },
  "language_info": {
   "codemirror_mode": {
    "name": "ipython",
    "version": 3
   },
   "file_extension": ".py",
   "mimetype": "text/x-python",
   "name": "python",
   "nbconvert_exporter": "python",
   "pygments_lexer": "ipython3",
   "version": "3.9.12"
  },
  "vscode": {
   "interpreter": {
    "hash": "6d662ac6fda5bf1608e2540d868b67cfce62ed1a5c77c21ae69a90c01a005a44"
   }
  }
 },
 "nbformat": 4,
 "nbformat_minor": 2
}
