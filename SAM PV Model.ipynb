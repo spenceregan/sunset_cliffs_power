{
 "cells": [
  {
   "cell_type": "code",
   "execution_count": 6,
   "id": "0bf32472",
   "metadata": {},
   "outputs": [
    {
     "name": "stdout",
     "output_type": "stream",
     "text": [
      "32.7904\n",
      "-117.0955\n"
     ]
    },
    {
     "name": "stderr",
     "output_type": "stream",
     "text": [
      "C:\\Users\\fwagg\\AppData\\Local\\Temp\\ipykernel_28464\\1834736460.py:56: DtypeWarning: Columns (0,1,2,3,4,5,6,7,8,9,10,11,12,13,14,15,16,17,18,19,20,21,22,23,25,26,27,28,29,30,31,32,33,34,35,36,37,39,40,41,42,43,45) have mixed types. Specify dtype option on import or set low_memory=False.\n",
      "  df = pd.read_csv(url)\n"
     ]
    },
    {
     "name": "stdout",
     "output_type": "stream",
     "text": [
      "1100\n",
      "32.878\n",
      "-117.2362\n"
     ]
    },
    {
     "name": "stderr",
     "output_type": "stream",
     "text": [
      "C:\\Users\\fwagg\\AppData\\Local\\Temp\\ipykernel_28464\\1834736460.py:56: DtypeWarning: Columns (0,1,2,3,4,5,6,7,8,9,10,11,12,13,14,15,16,17,18,19,20,21,22,23,25,26,27,28,29,30,31,32,33,34,35,36,37,39,40,41,42,43,45) have mixed types. Specify dtype option on import or set low_memory=False.\n",
      "  df = pd.read_csv(url)\n"
     ]
    },
    {
     "name": "stdout",
     "output_type": "stream",
     "text": [
      "1200\n",
      "33.2495\n",
      "-117.0216\n"
     ]
    },
    {
     "name": "stderr",
     "output_type": "stream",
     "text": [
      "C:\\Users\\fwagg\\AppData\\Local\\Temp\\ipykernel_28464\\1834736460.py:56: DtypeWarning: Columns (0,1,2,3,4,5,6,7,8,9,10,11,12,13,14,15,16,17,18,19,20,21,22,23,25,26,27,28,29,30,31,32,33,34,35,36,37,39,40,41,42,43,45) have mixed types. Specify dtype option on import or set low_memory=False.\n",
      "  df = pd.read_csv(url)\n"
     ]
    },
    {
     "name": "stdout",
     "output_type": "stream",
     "text": [
      "2500\n",
      "33.2331\n",
      "-117.0012\n"
     ]
    },
    {
     "name": "stderr",
     "output_type": "stream",
     "text": [
      "C:\\Users\\fwagg\\AppData\\Local\\Temp\\ipykernel_28464\\1834736460.py:56: DtypeWarning: Columns (0,1,2,3,4,5,6,7,8,9,10,11,12,13,14,15,16,17,18,19,20,21,22,23,25,26,27,28,29,30,31,32,33,34,35,36,37,39,40,41,42,43,45) have mixed types. Specify dtype option on import or set low_memory=False.\n",
      "  df = pd.read_csv(url)\n"
     ]
    },
    {
     "name": "stdout",
     "output_type": "stream",
     "text": [
      "5000\n",
      "33.0194\n",
      "-116.8606\n"
     ]
    },
    {
     "name": "stderr",
     "output_type": "stream",
     "text": [
      "C:\\Users\\fwagg\\AppData\\Local\\Temp\\ipykernel_28464\\1834736460.py:56: DtypeWarning: Columns (0,1,2,3,4,5,6,7,8,9,10,11,12,13,14,15,16,17,18,19,20,21,22,23,25,26,27,28,29,30,31,32,33,34,35,36,37,39,40,41,42,43,45) have mixed types. Specify dtype option on import or set low_memory=False.\n",
      "  df = pd.read_csv(url)\n"
     ]
    },
    {
     "name": "stdout",
     "output_type": "stream",
     "text": [
      "2000\n",
      "33.012\n",
      "-116.8736\n"
     ]
    },
    {
     "name": "stderr",
     "output_type": "stream",
     "text": [
      "C:\\Users\\fwagg\\AppData\\Local\\Temp\\ipykernel_28464\\1834736460.py:56: DtypeWarning: Columns (0,1,2,3,4,5,6,7,8,9,10,11,12,13,14,15,16,17,18,19,20,21,22,23,25,26,27,28,29,30,31,32,33,34,35,36,37,39,40,41,42,43,45) have mixed types. Specify dtype option on import or set low_memory=False.\n",
      "  df = pd.read_csv(url)\n"
     ]
    },
    {
     "name": "stdout",
     "output_type": "stream",
     "text": [
      "5000\n",
      "32.9094\n",
      "-117.1235\n"
     ]
    },
    {
     "name": "stderr",
     "output_type": "stream",
     "text": [
      "C:\\Users\\fwagg\\AppData\\Local\\Temp\\ipykernel_28464\\1834736460.py:56: DtypeWarning: Columns (0,1,2,3,4,5,6,7,8,9,10,11,12,13,14,15,16,17,18,19,20,21,22,23,25,26,27,28,29,30,31,32,33,34,35,36,37,39,40,41,42,43,45) have mixed types. Specify dtype option on import or set low_memory=False.\n",
      "  df = pd.read_csv(url)\n"
     ]
    },
    {
     "name": "stdout",
     "output_type": "stream",
     "text": [
      "1100\n",
      "33.1448\n",
      "-117.1794\n"
     ]
    },
    {
     "name": "stderr",
     "output_type": "stream",
     "text": [
      "C:\\Users\\fwagg\\AppData\\Local\\Temp\\ipykernel_28464\\1834736460.py:56: DtypeWarning: Columns (0,1,2,3,4,5,6,7,8,9,10,11,12,13,14,15,16,17,18,19,20,21,22,23,25,26,27,28,29,30,31,32,33,34,35,36,37,39,40,41,42,43,45) have mixed types. Specify dtype option on import or set low_memory=False.\n",
      "  df = pd.read_csv(url)\n"
     ]
    },
    {
     "name": "stdout",
     "output_type": "stream",
     "text": [
      "1100\n",
      "32.7312\n",
      "-117.2067\n"
     ]
    },
    {
     "name": "stderr",
     "output_type": "stream",
     "text": [
      "C:\\Users\\fwagg\\AppData\\Local\\Temp\\ipykernel_28464\\1834736460.py:56: DtypeWarning: Columns (0,1,2,3,4,5,6,7,8,9,10,11,12,13,14,15,16,17,18,19,20,21,22,23,25,26,27,28,29,30,31,32,33,34,35,36,37,39,40,41,42,43,45) have mixed types. Specify dtype option on import or set low_memory=False.\n",
      "  df = pd.read_csv(url)\n"
     ]
    },
    {
     "name": "stdout",
     "output_type": "stream",
     "text": [
      "3200\n",
      "33.2128\n",
      "-117.2997\n"
     ]
    },
    {
     "name": "stderr",
     "output_type": "stream",
     "text": [
      "C:\\Users\\fwagg\\AppData\\Local\\Temp\\ipykernel_28464\\1834736460.py:56: DtypeWarning: Columns (0,1,2,3,4,5,6,7,8,9,10,11,12,13,14,15,16,17,18,19,20,21,22,23,25,26,27,28,29,30,31,32,33,34,35,36,37,39,40,41,42,43,45) have mixed types. Specify dtype option on import or set low_memory=False.\n",
      "  df = pd.read_csv(url)\n"
     ]
    },
    {
     "name": "stdout",
     "output_type": "stream",
     "text": [
      "6500\n",
      "33.2434\n",
      "-117.0132\n"
     ]
    },
    {
     "name": "stderr",
     "output_type": "stream",
     "text": [
      "C:\\Users\\fwagg\\AppData\\Local\\Temp\\ipykernel_28464\\1834736460.py:56: DtypeWarning: Columns (0,1,2,3,4,5,6,7,8,9,10,11,12,13,14,15,16,17,18,19,20,21,22,23,25,26,27,28,29,30,31,32,33,34,35,36,37,39,40,41,42,43,45) have mixed types. Specify dtype option on import or set low_memory=False.\n",
      "  df = pd.read_csv(url)\n"
     ]
    },
    {
     "name": "stdout",
     "output_type": "stream",
     "text": [
      "3000\n",
      "33.2298\n",
      "-117.0031\n"
     ]
    },
    {
     "name": "stderr",
     "output_type": "stream",
     "text": [
      "C:\\Users\\fwagg\\AppData\\Local\\Temp\\ipykernel_28464\\1834736460.py:56: DtypeWarning: Columns (0,1,2,3,4,5,6,7,8,9,10,11,12,13,14,15,16,17,18,19,20,21,22,23,25,26,27,28,29,30,31,32,33,34,35,36,37,39,40,41,42,43,45) have mixed types. Specify dtype option on import or set low_memory=False.\n",
      "  df = pd.read_csv(url)\n"
     ]
    },
    {
     "name": "stdout",
     "output_type": "stream",
     "text": [
      "3000\n",
      "32.7389\n",
      "-117.1841\n"
     ]
    },
    {
     "name": "stderr",
     "output_type": "stream",
     "text": [
      "C:\\Users\\fwagg\\AppData\\Local\\Temp\\ipykernel_28464\\1834736460.py:56: DtypeWarning: Columns (0,1,2,3,4,5,6,7,8,9,10,11,12,13,14,15,16,17,18,19,20,21,22,23,25,26,27,28,29,30,31,32,33,34,35,36,37,39,40,41,42,43,45) have mixed types. Specify dtype option on import or set low_memory=False.\n",
      "  df = pd.read_csv(url)\n"
     ]
    },
    {
     "name": "stdout",
     "output_type": "stream",
     "text": [
      "1900\n",
      "33.0112\n",
      "-116.8765\n"
     ]
    },
    {
     "name": "stderr",
     "output_type": "stream",
     "text": [
      "C:\\Users\\fwagg\\AppData\\Local\\Temp\\ipykernel_28464\\1834736460.py:56: DtypeWarning: Columns (0,1,2,3,4,5,6,7,8,9,10,11,12,13,14,15,16,17,18,19,20,21,22,23,25,26,27,28,29,30,31,32,33,34,35,36,37,39,40,41,42,43,45) have mixed types. Specify dtype option on import or set low_memory=False.\n",
      "  df = pd.read_csv(url)\n"
     ]
    },
    {
     "name": "stdout",
     "output_type": "stream",
     "text": [
      "4300\n",
      "32.9372\n",
      "-117.234\n"
     ]
    },
    {
     "name": "stderr",
     "output_type": "stream",
     "text": [
      "C:\\Users\\fwagg\\AppData\\Local\\Temp\\ipykernel_28464\\1834736460.py:56: DtypeWarning: Columns (0,1,2,3,4,5,6,7,8,9,10,11,12,13,14,15,16,17,18,19,20,21,22,23,25,26,27,28,29,30,31,32,33,34,35,36,37,39,40,41,42,43,45) have mixed types. Specify dtype option on import or set low_memory=False.\n",
      "  df = pd.read_csv(url)\n"
     ]
    },
    {
     "name": "stdout",
     "output_type": "stream",
     "text": [
      "1100\n",
      "32.7535\n",
      "-117.0349\n"
     ]
    },
    {
     "name": "stderr",
     "output_type": "stream",
     "text": [
      "C:\\Users\\fwagg\\AppData\\Local\\Temp\\ipykernel_28464\\1834736460.py:56: DtypeWarning: Columns (0,1,2,3,4,5,6,7,8,9,10,11,12,13,14,15,16,17,18,19,20,21,22,23,25,26,27,28,29,30,31,32,33,34,35,36,37,39,40,41,42,43,45) have mixed types. Specify dtype option on import or set low_memory=False.\n",
      "  df = pd.read_csv(url)\n"
     ]
    },
    {
     "name": "stdout",
     "output_type": "stream",
     "text": [
      "1200\n",
      "32.7828\n",
      "-116.9852\n"
     ]
    },
    {
     "name": "stderr",
     "output_type": "stream",
     "text": [
      "C:\\Users\\fwagg\\AppData\\Local\\Temp\\ipykernel_28464\\1834736460.py:56: DtypeWarning: Columns (0,1,2,3,4,5,6,7,8,9,10,11,12,13,14,15,16,17,18,19,20,21,22,23,25,26,27,28,29,30,31,32,33,34,35,36,37,39,40,41,42,43,45) have mixed types. Specify dtype option on import or set low_memory=False.\n",
      "  df = pd.read_csv(url)\n"
     ]
    },
    {
     "name": "stdout",
     "output_type": "stream",
     "text": [
      "1400\n",
      "33.1391\n",
      "-117.2314\n"
     ]
    },
    {
     "name": "stderr",
     "output_type": "stream",
     "text": [
      "C:\\Users\\fwagg\\AppData\\Local\\Temp\\ipykernel_28464\\1834736460.py:56: DtypeWarning: Columns (0,1,2,3,4,5,6,7,8,9,10,11,12,13,14,15,16,17,18,19,20,21,22,23,25,26,27,28,29,30,31,32,33,34,35,36,37,39,40,41,42,43,45) have mixed types. Specify dtype option on import or set low_memory=False.\n",
      "  df = pd.read_csv(url)\n"
     ]
    },
    {
     "name": "stdout",
     "output_type": "stream",
     "text": [
      "1800\n",
      "32.8337\n",
      "-117.1288\n"
     ]
    },
    {
     "name": "stderr",
     "output_type": "stream",
     "text": [
      "C:\\Users\\fwagg\\AppData\\Local\\Temp\\ipykernel_28464\\1834736460.py:56: DtypeWarning: Columns (0,1,2,3,4,5,6,7,8,9,10,11,12,13,14,15,16,17,18,19,20,21,22,23,25,26,27,28,29,30,31,32,33,34,35,36,37,39,40,41,42,43,45) have mixed types. Specify dtype option on import or set low_memory=False.\n",
      "  df = pd.read_csv(url)\n"
     ]
    },
    {
     "name": "stdout",
     "output_type": "stream",
     "text": [
      "2100\n",
      "Done\n"
     ]
    }
   ],
   "source": [
    "import json\n",
    "import PySAM.Pvwattsv8 as pv\n",
    "import pandas as pd\n",
    "\n",
    "# USER INPUTS\n",
    "# JSON file should be saved to the same folder as the ipynb file.\n",
    "json_file_name = 'SAM_PV_Model_Template_pvwattsv8.json'\n",
    "generator_inputs_location = 'C:\\\\Users\\\\fwagg\\\\OneDrive\\\\Desktop\\\\Renewable Energy\\\\Project 2 - 100% Renewable SD\\\\SAM\\\\PV_Generator_Input_Data.csv'\n",
    "PV_weather_file_location = 'C:\\\\Users\\\\fwagg\\\\OneDrive\\\\Desktop\\\\Renewable Energy\\\\Project 2 - 100% Renewable SD\\\\SAM\\\\PV_WeatherFile.csv'\n",
    "output_data_location = 'C:\\\\Users\\\\fwagg\\\\OneDrive\\\\Desktop\\\\Renewable Energy\\\\Project 2 - 100% Renewable SD\\\\SAM\\\\Total_PV_Output_Timeseries.csv'\n",
    "\n",
    "# Create a new instance of a pySAM model\n",
    "pv_model = pv.new()\n",
    "\n",
    "# Declare all variables as strings. Spaces must be replaced with '+', i.e., change 'John Smith' to 'John+Smith'.\n",
    "# Define the lat, long of the location and the year\n",
    "api_key = 'zRso1hhdHGyzE1JXUAVz5AEkWM40yTr7yrXJOcDW'\n",
    "attributes = 'ghi,dhi,dni,wind_speed,air_temperature'\n",
    "leap_year = 'false'\n",
    "interval = '30'\n",
    "utc = 'false'\n",
    "your_name = 'Frank+Waggoner'\n",
    "reason_for_use = 'School+Project'\n",
    "your_affiliation = 'CU+Boulder'\n",
    "your_email = 'frwa2461@colorado.edu'\n",
    "mailing_list = 'false'\n",
    "\n",
    "# Get template inputs from the JSON file. File exported from SAM PV Model Template.sam\n",
    "with open(json_file_name, 'r') as f:\n",
    "        pv_inputs = json.load( f )\n",
    "for k, v in pv_inputs.items():\n",
    "    if k != 'number_inputs':\n",
    "        pv_model.value(k, v)        \n",
    "\n",
    "# Import generator data\n",
    "PV_input_data = pd.read_csv(generator_inputs_location, index_col=None)\n",
    "PV_capacities = PV_input_data.iloc[:,1].tolist()\n",
    "PV_lats = PV_input_data.iloc[:,2].tolist()\n",
    "PV_lons = PV_input_data.iloc[:,3].tolist()\n",
    "PV_number_gens = len(PV_input_data.iloc[:,1])\n",
    "years = [2012]\n",
    "\n",
    "# Create output data structure\n",
    "PV_total_output = []\n",
    "header_list = ['Year','Month','Day','Hour','Minute','Total PV Output (kW)']\n",
    "\n",
    "for i in range(PV_number_gens):\n",
    "    # Change the value of iterative weather file variables\n",
    "    lat = PV_lats[i]\n",
    "    lon = PV_lons[i]\n",
    "    year = years[0]\n",
    "    # Declare url string for weather file.\n",
    "    url = 'https://developer.nrel.gov/api/nsrdb/v2/solar/psm3-download.csv?wkt=POINT({lon}%20{lat})&names={year}&leap_day={leap}&interval={interval}&utc={utc}&full_name={name}&email={email}&affiliation={affiliation}&mailing_list={mailing_list}&reason={reason}&api_key={api}&attributes={attr}'.format(year=year, lat=lat, lon=lon, leap=leap_year, interval=interval, utc=utc, name=your_name, email=your_email, mailing_list=mailing_list, affiliation=your_affiliation, reason=reason_for_use, api=api_key, attr=attributes)\n",
    "    df = pd.read_csv(url)\n",
    "    # Create weather csv file\n",
    "    df.to_csv(PV_weather_file_location)\n",
    "    # Change the value of iterative PV system variables\n",
    "    pv_model.value('solar_resource_file', PV_weather_file_location)\n",
    "    pv_model.value('system_capacity', PV_capacities[i])\n",
    "    # Run the module\n",
    "    pv_model.execute()\n",
    "    # Store power output data in a cumulative list\n",
    "    for j in range(len(pv_model.Outputs.gen)):\n",
    "        # Build empty total output list to store total output time series data\n",
    "        # Add time series data to empty list\n",
    "        if i == 0:\n",
    "            PV_total_output.append([0,0,0,0,0,0])\n",
    "            PV_total_output[j][0] = df.iat[j+2,0]\n",
    "            PV_total_output[j][1] = df.iat[j+2,1]\n",
    "            PV_total_output[j][2] = df.iat[j+2,2]\n",
    "            PV_total_output[j][3] = df.iat[j+2,3]\n",
    "            PV_total_output[j][4] = df.iat[j+2,4]\n",
    "        # Fill in cumulative gen output time series data\n",
    "        PV_total_output[j][5] = PV_total_output[j][5] + pv_model.Outputs.gen[j]\n",
    "    # Print('Annual AC output for {capacity:,.2f} kW system is {output:,.0f} kWh.'.format(capacity = pv_model.value('system_capacity'), output = pv_model.Outputs.ac_annual) )\n",
    "outputDF = pd.DataFrame(PV_total_output)\n",
    "outputDF.to_csv(output_data_location, index=False, header=header_list)\n",
    "print('Done')"
   ]
  },
  {
   "cell_type": "code",
   "execution_count": null,
   "id": "c00288c3",
   "metadata": {},
   "outputs": [],
   "source": []
  },
  {
   "cell_type": "code",
   "execution_count": null,
   "id": "8bf05d72",
   "metadata": {},
   "outputs": [],
   "source": []
  }
 ],
 "metadata": {
  "kernelspec": {
   "display_name": "Python 3 (ipykernel)",
   "language": "python",
   "name": "python3"
  },
  "language_info": {
   "codemirror_mode": {
    "name": "ipython",
    "version": 3
   },
   "file_extension": ".py",
   "mimetype": "text/x-python",
   "name": "python",
   "nbconvert_exporter": "python",
   "pygments_lexer": "ipython3",
   "version": "3.9.13"
  }
 },
 "nbformat": 4,
 "nbformat_minor": 5
}
